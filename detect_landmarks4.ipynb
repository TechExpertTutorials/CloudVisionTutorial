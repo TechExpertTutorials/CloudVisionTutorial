{
 "cells": [
  {
   "cell_type": "markdown",
   "id": "1e802f4b",
   "metadata": {},
   "source": [
    "need to install google-cloud-vision (GCP SDK) from conda -c conda-forge  \n",
    "\n",
    "conda create -n gcp-cloud  \n",
    "conda install -c conda-forge pillow=10.1.0 pandas=2.1.2 google-cloud-vision=3.4.5 scikit-learn=1.3.2 ipykernel jupyterlab notebook python=3.12.0  \n",
    "\n",
    "to set up env as new kernel in jupyterlabs:  \n",
    "\n",
    "python -m ipykernel install --user --name=gcp-cloud\n"
   ]
  },
  {
   "cell_type": "code",
   "execution_count": 1,
   "id": "5e49fc0b",
   "metadata": {},
   "outputs": [],
   "source": [
    "# Authentication to Google API\n",
    "import os\n",
    "import io\n",
    "import math\n",
    "from numpy import random\n",
    "from collections import Counter\n",
    "from google.cloud import vision\n",
    "from my_timer import my_timer\n",
    "from Pillow_Library import draw_borders\n",
    "from PIL import Image\n",
    "import re\n",
    "import pandas as pd\n",
    "\n",
    "os.environ['GOOGLE_APPLICATION_CREDENTIALS'] ='vision_key.json'"
   ]
  },
  {
   "cell_type": "code",
   "execution_count": 2,
   "id": "54905fa2",
   "metadata": {},
   "outputs": [],
   "source": [
    "vision_client = vision.ImageAnnotatorClient()\n",
    "\n",
    "# file = 'woman_bicycle.png'\n",
    "file = 'living_room.png'\n",
    "image_path = os.path.join('.\\\\content', file)\n",
    "\n",
    "with io.open(image_path, 'rb') as image_file:\n",
    "    image_content = image_file.read()"
   ]
  },
  {
   "cell_type": "code",
   "execution_count": 3,
   "id": "198e4eca",
   "metadata": {},
   "outputs": [],
   "source": [
    "image = vision.Image(content=image_content)\n",
    "response = vision_client.object_localization(image=image)\n",
    "localized_object_annotations = response.localized_object_annotations"
   ]
  },
  {
   "cell_type": "code",
   "execution_count": 4,
   "id": "21f0a2a8-0e43-49d4-8334-7c158381f5e1",
   "metadata": {},
   "outputs": [
    {
     "name": "stdout",
     "output_type": "stream",
     "text": [
      "          object     score\n",
      "0          Dress  0.906016\n",
      "1         Person  0.765900\n",
      "2           Tire  0.713856\n",
      "3           Tire  0.709424\n",
      "4        Bicycle  0.699189\n",
      "5  Bicycle wheel  0.694646\n",
      "6  Bicycle wheel  0.674953\n",
      "7          Wheel  0.650335\n",
      "8         Person  0.622718\n",
      "9           Shoe  0.616429\n"
     ]
    }
   ],
   "source": [
    "pillow_image = Image.open(image_path)\n",
    "df = pd.DataFrame(columns=['object', 'score'])\n",
    "df_list = []\n",
    "for obj in localized_object_annotations:\n",
    "    df_list.append({'object': obj.name, 'score': obj.score}) \n",
    "    \n",
    "    r, g, b = random.randint(150, 255), random.randint(\n",
    "        150, 255), random.randint(150, 255)\n",
    "\n",
    "    draw_borders(pillow_image, obj.bounding_poly, (r, g, b),\n",
    "                pillow_image.size, obj.name, obj.score)\n",
    "\n",
    "df = pd.DataFrame.from_records(df_list)\n",
    "print(df)\n",
    "pillow_image.show()"
   ]
  },
  {
   "cell_type": "code",
   "execution_count": 5,
   "id": "77927824",
   "metadata": {},
   "outputs": [],
   "source": [
    "pillow_image.show()"
   ]
  },
  {
   "cell_type": "code",
   "execution_count": null,
   "id": "4ce51940-f71c-4013-bd06-91e2372398e4",
   "metadata": {},
   "outputs": [],
   "source": []
  },
  {
   "cell_type": "code",
   "execution_count": null,
   "id": "7dac4f57-9e05-4c56-8654-740ebba27bc9",
   "metadata": {},
   "outputs": [],
   "source": []
  },
  {
   "cell_type": "code",
   "execution_count": null,
   "id": "2ff6f56d-8da7-4750-bd11-0aae6ecda911",
   "metadata": {},
   "outputs": [],
   "source": []
  },
  {
   "cell_type": "code",
   "execution_count": null,
   "id": "45bcd072-6e98-45a0-b3ec-d2ca51117161",
   "metadata": {},
   "outputs": [],
   "source": []
  },
  {
   "cell_type": "code",
   "execution_count": null,
   "id": "06dd3f93-eb61-44b7-b24b-8efacff834be",
   "metadata": {},
   "outputs": [],
   "source": []
  },
  {
   "cell_type": "code",
   "execution_count": null,
   "id": "d73eadd3-4d2c-4280-b195-a79df861d3d9",
   "metadata": {},
   "outputs": [],
   "source": []
  },
  {
   "cell_type": "code",
   "execution_count": null,
   "id": "22b85cc1-4f4e-4e26-9de7-ebed0df89454",
   "metadata": {},
   "outputs": [],
   "source": []
  },
  {
   "cell_type": "code",
   "execution_count": null,
   "id": "2f47c625-e723-40ed-816d-a3bbcc6fe3c9",
   "metadata": {},
   "outputs": [],
   "source": []
  },
  {
   "cell_type": "code",
   "execution_count": null,
   "id": "8d911a73-5f42-4b8d-914f-7e0faff587d9",
   "metadata": {},
   "outputs": [],
   "source": []
  },
  {
   "cell_type": "code",
   "execution_count": null,
   "id": "01ef81a3-f629-4007-a1a4-ef399c0e1f16",
   "metadata": {},
   "outputs": [],
   "source": []
  },
  {
   "cell_type": "code",
   "execution_count": null,
   "id": "ea76427e-1cda-417e-90ae-da5b65ff7b43",
   "metadata": {},
   "outputs": [],
   "source": []
  },
  {
   "cell_type": "code",
   "execution_count": null,
   "id": "640ee444",
   "metadata": {},
   "outputs": [],
   "source": [
    "def get_cosine(vec1, vec2):\n",
    "    intersection = set(vec1.keys()) & set(vec2.keys())\n",
    "    numerator = sum([vec1[x] * vec2[x] for x in intersection])\n",
    "\n",
    "    sum1 = sum([vec1[x] ** 2 for x in list(vec1.keys())])\n",
    "    sum2 = sum([vec2[x] ** 2 for x in list(vec2.keys())])\n",
    "    denominator = math.sqrt(sum1) * math.sqrt(sum2)\n",
    "\n",
    "    if not denominator:\n",
    "        return 0.0\n",
    "    else:\n",
    "        return float(numerator) / denominator\n",
    "\n",
    "\n",
    "def text_to_vector(text):\n",
    "    words = WORD.findall(text)\n",
    "    return Counter(words)"
   ]
  },
  {
   "cell_type": "code",
   "execution_count": null,
   "id": "916d6dc4",
   "metadata": {},
   "outputs": [],
   "source": [
    "text1 = \"This is a foo bar sentence .\"\n",
    "text2 = \"This sentence is similar to a foo bar sentence .\"\n",
    "\n",
    "text1 = \"AUSTIN FORTE Notary Public - State of Colorado \"\n",
    "text2 = \"Austin forth Notary Public - State of Colorado \"\n",
    "\n",
    "vector1 = text_to_vector(text1)\n",
    "vector2 = text_to_vector(text2)\n",
    "\n",
    "cosine = get_cosine(vector1, vector2)\n",
    "\n",
    "print(\"Cosine:\", cosine)"
   ]
  },
  {
   "cell_type": "code",
   "execution_count": null,
   "id": "e103a237",
   "metadata": {},
   "outputs": [],
   "source": [
    "# print(cosine_similarity(vector1, vector2))"
   ]
  },
  {
   "cell_type": "code",
   "execution_count": null,
   "id": "dcf0adfc",
   "metadata": {},
   "outputs": [],
   "source": [
    "# vision_client = vision.ImageAnnotatorClient()\n",
    "\n",
    "# image_path = \"content/im25.jpeg\"\n",
    "\n",
    "# with open(image_path, \"rb\") as image_file:\n",
    "#     content = image_file.read()\n",
    "        \n",
    "# image = vision.Image(content=content)\n",
    "\n",
    "# # image_uri = 'https://upload.wikimedia.org/wikipedia/commons/b/bf/Mobile_phone_IMEI.jpg'\n",
    "\n",
    "# # image.source.image_uri = image_uri"
   ]
  },
  {
   "cell_type": "code",
   "execution_count": null,
   "id": "e2254c47",
   "metadata": {},
   "outputs": [],
   "source": [
    "# response = vision_client.text_detection(image=image)"
   ]
  },
  {
   "cell_type": "code",
   "execution_count": null,
   "id": "67d8e63b",
   "metadata": {},
   "outputs": [],
   "source": [
    "# response.text_annotations[0]"
   ]
  },
  {
   "cell_type": "code",
   "execution_count": null,
   "id": "35dcd859",
   "metadata": {},
   "outputs": [],
   "source": [
    "# text = response.text_annotations[0].description\n",
    "\n",
    "# imeis = re.findall('[0-9]{14,15}', text)\n",
    "\n",
    "# print(imeis)"
   ]
  },
  {
   "cell_type": "code",
   "execution_count": null,
   "id": "fdb4c80c",
   "metadata": {},
   "outputs": [],
   "source": []
  }
 ],
 "metadata": {
  "kernelspec": {
   "display_name": "Python 3 (ipykernel)",
   "language": "python",
   "name": "python3"
  },
  "language_info": {
   "codemirror_mode": {
    "name": "ipython",
    "version": 3
   },
   "file_extension": ".py",
   "mimetype": "text/x-python",
   "name": "python",
   "nbconvert_exporter": "python",
   "pygments_lexer": "ipython3",
   "version": "3.12.0"
  }
 },
 "nbformat": 4,
 "nbformat_minor": 5
}
