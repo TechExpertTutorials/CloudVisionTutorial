{
 "cells": [
  {
   "cell_type": "code",
   "execution_count": 1,
   "metadata": {},
   "outputs": [],
   "source": [
    "# Authentication to Google API\n",
    "import os\n",
    "import io\n",
    "import math\n",
    "from numpy import random\n",
    "from collections import Counter\n",
    "from google.cloud import vision\n",
    "from Pillow_Library import draw_borders\n",
    "from PIL import Image\n",
    "import re\n",
    "import pandas as pd\n",
    "\n",
    "os.environ['GOOGLE_APPLICATION_CREDENTIALS'] ='vision_key.json'\n",
    "from my_timer import my_timer\n",
    "import time"
   ]
  },
  {
   "cell_type": "code",
   "execution_count": 4,
   "metadata": {},
   "outputs": [
    {
     "name": "stdout",
     "output_type": "stream",
     "text": [
      "Labels:\n",
      "Tire\n",
      "Bicycle\n",
      "Wheel\n",
      "Automotive lighting\n",
      "Infrastructure\n",
      "Building\n",
      "Vehicle\n",
      "Mode of transport\n",
      "Bicycle wheel\n",
      "Electricity\n"
     ]
    }
   ],
   "source": [
    "path = r'.\\\\content\\label1.jpeg'\n",
    "\n",
    "client = vision.ImageAnnotatorClient()\n",
    "\n",
    "with open(path, \"rb\") as image_file:\n",
    "    content = image_file.read()\n",
    "\n",
    "image = vision.Image(content=content)\n",
    "\n",
    "response = client.face_detection(image=image)\n",
    "faces = response.face_annotations\n",
    "\n",
    "# Names of likelihood from google.cloud.vision.enums\n",
    "likelihood_name = (\n",
    "    \"UNKNOWN\",\n",
    "    \"VERY_UNLIKELY\",\n",
    "    \"UNLIKELY\",\n",
    "    \"POSSIBLE\",\n",
    "    \"LIKELY\",\n",
    "    \"VERY_LIKELY\",\n",
    ")\n",
    "print(\"Faces:\")\n",
    "\n",
    "for face in faces:\n",
    "    print(f\"anger: {likelihood_name[face.anger_likelihood]}\")\n",
    "    print(f\"joy: {likelihood_name[face.joy_likelihood]}\")\n",
    "    print(f\"surprise: {likelihood_name[face.surprise_likelihood]}\")\n",
    "\n",
    "    vertices = [\n",
    "        f\"({vertex.x},{vertex.y})\" for vertex in face.bounding_poly.vertices\n",
    "    ]\n",
    "\n",
    "    print(\"face bounds: {}\".format(\",\".join(vertices)))\n",
    "\n",
    "if response.error.message:\n",
    "    raise Exception(\n",
    "        \"{}\\nFor more info on error messages, check: \"\n",
    "        \"https://cloud.google.com/apis/design/errors\".format(response.error.message)\n",
    "    )"
   ]
  },
  {
   "cell_type": "code",
   "execution_count": null,
   "metadata": {},
   "outputs": [],
   "source": []
  }
 ],
 "metadata": {
  "kernelspec": {
   "display_name": "gcp-cloud",
   "language": "python",
   "name": "python3"
  },
  "language_info": {
   "codemirror_mode": {
    "name": "ipython",
    "version": 3
   },
   "file_extension": ".py",
   "mimetype": "text/x-python",
   "name": "python",
   "nbconvert_exporter": "python",
   "pygments_lexer": "ipython3",
   "version": "3.12.0"
  }
 },
 "nbformat": 4,
 "nbformat_minor": 2
}
