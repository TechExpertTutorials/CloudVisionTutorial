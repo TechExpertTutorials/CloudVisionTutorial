{
 "cells": [
  {
   "cell_type": "code",
   "execution_count": 5,
   "metadata": {},
   "outputs": [],
   "source": [
    "# Authentication to Google API\n",
    "import os\n",
    "import io\n",
    "import math\n",
    "from numpy import random\n",
    "from collections import Counter\n",
    "from google.cloud import vision\n",
    "from Pillow_Library import draw_borders\n",
    "from PIL import Image\n",
    "import re\n",
    "import pandas as pd\n",
    "from my_timer import my_timer\n",
    "import time"
   ]
  },
  {
   "cell_type": "code",
   "execution_count": 6,
   "metadata": {},
   "outputs": [],
   "source": [
    "os.environ['GOOGLE_APPLICATION_CREDENTIALS'] ='vision_key.json'\n",
    "path = r'.\\\\content\\label1.jpeg'"
   ]
  },
  {
   "cell_type": "code",
   "execution_count": 7,
   "metadata": {},
   "outputs": [],
   "source": [
    "client = vision.ImageAnnotatorClient()"
   ]
  },
  {
   "cell_type": "code",
   "execution_count": 8,
   "metadata": {},
   "outputs": [],
   "source": [
    "with open(path, \"rb\") as image_file:\n",
    "    content = image_file.read()"
   ]
  },
  {
   "cell_type": "code",
   "execution_count": 9,
   "metadata": {},
   "outputs": [],
   "source": [
    "image = vision.Image(content=content)"
   ]
  },
  {
   "cell_type": "code",
   "execution_count": 10,
   "metadata": {},
   "outputs": [],
   "source": [
    "response = client.label_detection(image=image)"
   ]
  },
  {
   "cell_type": "code",
   "execution_count": 11,
   "metadata": {},
   "outputs": [
    {
     "name": "stdout",
     "output_type": "stream",
     "text": [
      "Labels:\n"
     ]
    }
   ],
   "source": [
    "labels = response.label_annotations"
   ]
  },
  {
   "cell_type": "code",
   "execution_count": 12,
   "metadata": {},
   "outputs": [
    {
     "name": "stdout",
     "output_type": "stream",
     "text": [
      "Tire\n",
      "Bicycle\n",
      "Wheel\n",
      "Automotive lighting\n",
      "Infrastructure\n",
      "Building\n",
      "Vehicle\n",
      "Mode of transport\n",
      "Bicycle wheel\n",
      "Electricity\n"
     ]
    }
   ],
   "source": [
    "print(\"Labels:\")\n",
    "for label in labels:\n",
    "    print(label.description)"
   ]
  },
  {
   "cell_type": "code",
   "execution_count": 13,
   "metadata": {},
   "outputs": [],
   "source": [
    "if response.error.message:\n",
    "    raise Exception(\n",
    "        \"{}\\nFor more info on error messages, check: \"\n",
    "        \"https://cloud.google.com/apis/design/errors\".format(response.error.message)\n",
    "    )"
   ]
  },
  {
   "cell_type": "code",
   "execution_count": null,
   "metadata": {},
   "outputs": [],
   "source": []
  }
 ],
 "metadata": {
  "kernelspec": {
   "display_name": "gcp-cloud",
   "language": "python",
   "name": "python3"
  },
  "language_info": {
   "codemirror_mode": {
    "name": "ipython",
    "version": 3
   },
   "file_extension": ".py",
   "mimetype": "text/x-python",
   "name": "python",
   "nbconvert_exporter": "python",
   "pygments_lexer": "ipython3",
   "version": "3.12.0"
  }
 },
 "nbformat": 4,
 "nbformat_minor": 2
}
